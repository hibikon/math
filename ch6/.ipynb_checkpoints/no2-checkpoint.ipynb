{
 "cells": [
  {
   "cell_type": "markdown",
   "metadata": {},
   "source": [
    "◯　順列"
   ]
  },
  {
   "cell_type": "markdown",
   "metadata": {},
   "source": [
    "◯　順列を求めるプログラム"
   ]
  },
  {
   "cell_type": "code",
   "execution_count": 2,
   "metadata": {},
   "outputs": [
    {
     "data": {
      "text/plain": [
       "60"
      ]
     },
     "execution_count": 2,
     "metadata": {},
     "output_type": "execute_result"
    }
   ],
   "source": [
    "# 順列や組み合わせはitertoolsモジュールの関数を使って求められる\n",
    "import itertools\n",
    "# データを定義\n",
    "num = {1,2,3,4,5}\n",
    "# numの中から３個選ぶ順列で集合を生成\n",
    "A = set(itertools.permutations(num, 3))\n",
    "# Aの要素数を調べる\n",
    "len(A)"
   ]
  },
  {
   "cell_type": "code",
   "execution_count": 3,
   "metadata": {},
   "outputs": [
    {
     "name": "stdout",
     "output_type": "stream",
     "text": [
      "(2, 3, 5)\n",
      "(3, 5, 4)\n",
      "(1, 5, 3)\n",
      "(1, 3, 2)\n",
      "(5, 3, 4)\n",
      "(4, 3, 5)\n",
      "(1, 5, 2)\n",
      "(4, 3, 2)\n",
      "(1, 4, 5)\n",
      "(3, 4, 1)\n",
      "(1, 4, 2)\n",
      "(5, 2, 1)\n",
      "(5, 1, 4)\n",
      "(2, 4, 1)\n",
      "(3, 4, 2)\n",
      "(1, 4, 3)\n",
      "(2, 3, 1)\n",
      "(4, 3, 1)\n",
      "(5, 2, 3)\n",
      "(2, 4, 3)\n",
      "(3, 1, 5)\n",
      "(3, 1, 4)\n",
      "(5, 4, 2)\n",
      "(2, 4, 5)\n",
      "(4, 1, 5)\n",
      "(4, 5, 1)\n",
      "(5, 4, 3)\n",
      "(5, 1, 3)\n",
      "(3, 1, 2)\n",
      "(4, 5, 2)\n",
      "(2, 5, 3)\n",
      "(5, 1, 2)\n",
      "(3, 2, 1)\n",
      "(2, 1, 4)\n",
      "(4, 5, 3)\n",
      "(5, 4, 1)\n",
      "(1, 2, 3)\n",
      "(2, 1, 5)\n",
      "(2, 5, 1)\n",
      "(4, 2, 5)\n",
      "(1, 2, 4)\n",
      "(3, 5, 2)\n",
      "(5, 3, 2)\n",
      "(3, 2, 4)\n",
      "(2, 1, 3)\n",
      "(1, 2, 5)\n",
      "(4, 1, 2)\n",
      "(3, 5, 1)\n",
      "(1, 5, 4)\n",
      "(5, 3, 1)\n",
      "(3, 2, 5)\n",
      "(2, 5, 4)\n",
      "(4, 1, 3)\n",
      "(4, 2, 1)\n",
      "(1, 3, 5)\n",
      "(5, 2, 4)\n",
      "(1, 3, 4)\n",
      "(3, 4, 5)\n",
      "(2, 3, 4)\n",
      "(4, 2, 3)\n"
     ]
    }
   ],
   "source": [
    "# Aの全要素にアクセスするループ\n",
    "for a in A:\n",
    "    print(a)"
   ]
  },
  {
   "cell_type": "markdown",
   "metadata": {},
   "source": [
    "◯　階乗"
   ]
  },
  {
   "cell_type": "markdown",
   "metadata": {},
   "source": [
    "◯　階乗の計算はfactorial()関数で"
   ]
  },
  {
   "cell_type": "code",
   "execution_count": 5,
   "metadata": {},
   "outputs": [
    {
     "data": {
      "text/plain": [
       "120"
      ]
     },
     "execution_count": 5,
     "metadata": {},
     "output_type": "execute_result"
    }
   ],
   "source": [
    "# itertoolsモジュールのpermutations()関数を使うと、５の階乗は\n",
    "import itertools\n",
    "\n",
    "# データを定義\n",
    "num = {1,2,3,4,5}\n",
    "# nunの中から５個選ぶ順列\n",
    "A = set(itertools.permutations(num, 5))\n",
    "# Aの要素数\n",
    "len(A)\n",
    "\n",
    "# これは５個から５個選ぶ順列の場合を求める方法であり、階乗を計算するのとは少し違う"
   ]
  },
  {
   "cell_type": "code",
   "execution_count": 7,
   "metadata": {},
   "outputs": [
    {
     "data": {
      "text/plain": [
       "120"
      ]
     },
     "execution_count": 7,
     "metadata": {},
     "output_type": "execute_result"
    }
   ],
   "source": [
    "# 階乗を求めるには、mathモジュールのfactorial()関数を使う\n",
    "import math\n",
    "\n",
    "# ５の階乗を求める\n",
    "math.factorial(5)"
   ]
  },
  {
   "cell_type": "markdown",
   "metadata": {},
   "source": [
    "◯　重複順列"
   ]
  },
  {
   "cell_type": "markdown",
   "metadata": {},
   "source": [
    "◯　重複順列をPythonで求める"
   ]
  },
  {
   "cell_type": "code",
   "execution_count": 9,
   "metadata": {},
   "outputs": [
    {
     "data": {
      "text/plain": [
       "125"
      ]
     },
     "execution_count": 9,
     "metadata": {},
     "output_type": "execute_result"
    }
   ],
   "source": [
    "# itertollsモジュールのproduct()関数で調べられる\n",
    "# 今度は同じ数字を使用可\n",
    "\n",
    "# データを定義\n",
    "num = {1,2,3,4,5}\n",
    "# numの中から３個選ぶ重複順列\n",
    "A = set(itertools.product(num,num,num))\n",
    "# Aの要素数\n",
    "len(A)"
   ]
  },
  {
   "cell_type": "code",
   "execution_count": 10,
   "metadata": {},
   "outputs": [
    {
     "name": "stdout",
     "output_type": "stream",
     "text": [
      "(4, 2, 2)\n",
      "(1, 4, 4)\n",
      "(2, 2, 4)\n",
      "(5, 5, 1)\n",
      "(5, 2, 1)\n",
      "(1, 4, 2)\n",
      "(5, 5, 3)\n",
      "(5, 2, 3)\n",
      "(5, 5, 5)\n",
      "(3, 1, 4)\n",
      "(3, 2, 2)\n",
      "(4, 1, 5)\n",
      "(3, 1, 2)\n",
      "(2, 5, 3)\n",
      "(1, 2, 2)\n",
      "(2, 5, 1)\n",
      "(4, 1, 1)\n",
      "(1, 2, 4)\n",
      "(5, 3, 2)\n",
      "(1, 5, 5)\n",
      "(3, 2, 4)\n",
      "(4, 1, 3)\n",
      "(2, 5, 5)\n",
      "(1, 3, 5)\n",
      "(1, 5, 1)\n",
      "(3, 4, 5)\n",
      "(2, 3, 4)\n",
      "(1, 3, 3)\n",
      "(4, 3, 4)\n",
      "(5, 3, 4)\n",
      "(1, 5, 3)\n",
      "(1, 3, 1)\n",
      "(4, 3, 2)\n",
      "(3, 3, 1)\n",
      "(5, 1, 5)\n",
      "(3, 4, 1)\n",
      "(3, 3, 3)\n",
      "(3, 4, 3)\n",
      "(2, 3, 2)\n",
      "(3, 3, 5)\n",
      "(2, 4, 2)\n",
      "(5, 1, 1)\n",
      "(5, 4, 3)\n",
      "(5, 1, 3)\n",
      "(2, 4, 4)\n",
      "(4, 5, 2)\n",
      "(5, 4, 1)\n",
      "(4, 5, 4)\n",
      "(2, 1, 5)\n",
      "(4, 2, 5)\n",
      "(3, 5, 2)\n",
      "(2, 2, 3)\n",
      "(2, 1, 3)\n",
      "(5, 4, 5)\n",
      "(2, 2, 1)\n",
      "(4, 4, 5)\n",
      "(2, 1, 1)\n",
      "(4, 2, 1)\n",
      "(1, 1, 2)\n",
      "(5, 2, 4)\n",
      "(4, 4, 3)\n",
      "(4, 2, 3)\n",
      "(1, 1, 4)\n",
      "(3, 5, 4)\n",
      "(2, 2, 5)\n",
      "(4, 4, 1)\n",
      "(1, 4, 5)\n",
      "(5, 2, 2)\n",
      "(1, 4, 3)\n",
      "(5, 5, 2)\n",
      "(3, 1, 5)\n",
      "(1, 4, 1)\n",
      "(4, 1, 4)\n",
      "(5, 5, 4)\n",
      "(3, 1, 3)\n",
      "(3, 2, 3)\n",
      "(2, 5, 2)\n",
      "(1, 2, 1)\n",
      "(3, 1, 1)\n",
      "(3, 2, 1)\n",
      "(1, 2, 3)\n",
      "(5, 3, 3)\n",
      "(4, 1, 2)\n",
      "(1, 2, 5)\n",
      "(5, 3, 1)\n",
      "(1, 5, 4)\n",
      "(3, 2, 5)\n",
      "(2, 5, 4)\n",
      "(3, 4, 4)\n",
      "(1, 3, 4)\n",
      "(5, 3, 5)\n",
      "(2, 3, 5)\n",
      "(1, 3, 2)\n",
      "(4, 3, 5)\n",
      "(1, 5, 2)\n",
      "(4, 3, 3)\n",
      "(5, 1, 4)\n",
      "(2, 4, 1)\n",
      "(3, 4, 2)\n",
      "(2, 3, 1)\n",
      "(4, 3, 1)\n",
      "(3, 3, 2)\n",
      "(2, 4, 3)\n",
      "(2, 3, 3)\n",
      "(5, 4, 2)\n",
      "(3, 3, 4)\n",
      "(2, 4, 5)\n",
      "(4, 5, 1)\n",
      "(5, 1, 2)\n",
      "(4, 5, 3)\n",
      "(2, 1, 4)\n",
      "(3, 5, 3)\n",
      "(4, 5, 5)\n",
      "(2, 1, 2)\n",
      "(4, 2, 4)\n",
      "(1, 1, 1)\n",
      "(5, 4, 4)\n",
      "(3, 5, 1)\n",
      "(2, 2, 2)\n",
      "(1, 1, 3)\n",
      "(4, 4, 4)\n",
      "(1, 1, 5)\n",
      "(5, 2, 5)\n",
      "(3, 5, 5)\n",
      "(4, 4, 2)\n"
     ]
    }
   ],
   "source": [
    "# 要素を画面に出力\n",
    "for a in A:\n",
    "    print(a)"
   ]
  },
  {
   "cell_type": "markdown",
   "metadata": {},
   "source": [
    "◯　組み合わせ"
   ]
  },
  {
   "cell_type": "markdown",
   "metadata": {},
   "source": [
    "◯　何通りの組み合わせがあるのか求める"
   ]
  },
  {
   "cell_type": "code",
   "execution_count": 12,
   "metadata": {},
   "outputs": [
    {
     "data": {
      "text/plain": [
       "10"
      ]
     },
     "execution_count": 12,
     "metadata": {},
     "output_type": "execute_result"
    }
   ],
   "source": [
    "# 組み合わせが何通りか調べるときは、itertoolsモジュールのcombinations()関数を使う\n",
    "\n",
    "# データの定義\n",
    "num = {1,2,3,4,5}\n",
    "# numの中から３個を選ぶ組み合わせ\n",
    "A = set(itertools.combinations(num,3))\n",
    "# 組み合わせが何通りあるかを確認\n",
    "len(A)"
   ]
  },
  {
   "cell_type": "code",
   "execution_count": 13,
   "metadata": {},
   "outputs": [
    {
     "name": "stdout",
     "output_type": "stream",
     "text": [
      "(2, 3, 5)\n",
      "(1, 2, 3)\n",
      "(1, 3, 5)\n",
      "(1, 4, 5)\n",
      "(1, 2, 4)\n",
      "(1, 3, 4)\n",
      "(2, 4, 5)\n",
      "(3, 4, 5)\n",
      "(2, 3, 4)\n",
      "(1, 2, 5)\n"
     ]
    }
   ],
   "source": [
    "# 要素を画面に出力\n",
    "for a in A:\n",
    "    print(a)"
   ]
  },
  {
   "cell_type": "code",
   "execution_count": 14,
   "metadata": {},
   "outputs": [
    {
     "data": {
      "text/plain": [
       "15"
      ]
     },
     "execution_count": 14,
     "metadata": {},
     "output_type": "execute_result"
    }
   ],
   "source": [
    "# サイコロの目を定義\n",
    "dice = {1,2,3,4,5,6}\n",
    "# diceから２個選ぶ組み合わせ\n",
    "A = set(itertools.combinations(dice,2))\n",
    "# 組み合わせが何通りか\n",
    "len(A)"
   ]
  },
  {
   "cell_type": "code",
   "execution_count": null,
   "metadata": {},
   "outputs": [],
   "source": []
  }
 ],
 "metadata": {
  "kernelspec": {
   "display_name": "Python 3",
   "language": "python",
   "name": "python3"
  },
  "language_info": {
   "codemirror_mode": {
    "name": "ipython",
    "version": 3
   },
   "file_extension": ".py",
   "mimetype": "text/x-python",
   "name": "python",
   "nbconvert_exporter": "python",
   "pygments_lexer": "ipython3",
   "version": "3.7.5"
  }
 },
 "nbformat": 4,
 "nbformat_minor": 4
}
