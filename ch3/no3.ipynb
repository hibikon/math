{
 "cells": [
  {
   "cell_type": "markdown",
   "metadata": {},
   "source": [
    "◯　直線の方程式"
   ]
  },
  {
   "cell_type": "code",
   "execution_count": 1,
   "metadata": {},
   "outputs": [
    {
     "name": "stdout",
     "output_type": "stream",
     "text": [
      "{a: 1/2, b: 1/2}\n"
     ]
    }
   ],
   "source": [
    "# 連立方程式を解く\n",
    "# a + b = 1\n",
    "# 5a + b = 3\n",
    "from sympy import Symbol, solve\n",
    "\n",
    "# 式を定義\n",
    "a = Symbol('a')\n",
    "b = Symbol('b')\n",
    "\n",
    "ex1 = a + b - 1\n",
    "ex2 = 5 * a + b - 3\n",
    "\n",
    "# 連立方程式を解く\n",
    "print(solve((ex1,ex2)))"
   ]
  },
  {
   "cell_type": "code",
   "execution_count": 4,
   "metadata": {},
   "outputs": [
    {
     "data": {
      "image/png": "[encoded data removed]",
      "text/plain": [
       "<Figure size 432x288 with 1 Axes>"
      ]
     },
     "metadata": {
      "needs_background": "light"
     },
     "output_type": "display_data"
    }
   ],
   "source": [
    "# 点（１、５）を通って直線 y = 1/2x + 1/2と直交する直線\n",
    "# y = 1/2x + 1/2 と y = -2x + 7のグラフ\n",
    "%matplotlib inline\n",
    "import matplotlib.pyplot as plt\n",
    "import numpy as np\n",
    "\n",
    "# x軸\n",
    "x = np.arange(-1, 6)\n",
    "# 直線１\n",
    "y = 1/2 * x + 1/2\n",
    "# 直線１に直交する直線\n",
    "y2 = -2 * x + 7\n",
    "\n",
    "# グラフを描画\n",
    "plt.plot(x, y)\n",
    "plt.plot(x, y2)\n",
    "plt.axis('equal')\n",
    "plt.grid(color='0.8')\n",
    "plt.show()"
   ]
  },
  {
   "cell_type": "markdown",
   "metadata": {},
   "source": [
    "◯　２直線の交点を求める"
   ]
  },
  {
   "cell_type": "code",
   "execution_count": 2,
   "metadata": {},
   "outputs": [
    {
     "name": "stdout",
     "output_type": "stream",
     "text": [
      "{x: 2.00000000000000, y: 3.00000000000000}\n"
     ]
    }
   ],
   "source": [
    "# y = -3/2x + 6\n",
    "# y = 1/2x + 2\n",
    "\n",
    "from sympy import Symbol, solve\n",
    "\n",
    "# 文字の定義\n",
    "x = Symbol('x')\n",
    "y = Symbol('y')\n",
    "\n",
    "# 直線１の式を定義\n",
    "ex1 = -3/2 * x + 6 - y\n",
    "# 直線２の式を定義\n",
    "ex2 = 1/2 * x + 2 - y\n",
    "\n",
    "# 連立方程式を解く\n",
    "print(solve((ex1, ex2)))\n"
   ]
  },
  {
   "cell_type": "code",
   "execution_count": null,
   "metadata": {},
   "outputs": [],
   "source": []
  }
 ],
 "metadata": {
  "kernelspec": {
   "display_name": "Python 3",
   "language": "python",
   "name": "python3"
  },
  "language_info": {
   "codemirror_mode": {
    "name": "ipython",
    "version": 3
   },
   "file_extension": ".py",
   "mimetype": "text/x-python",
   "name": "python",
   "nbconvert_exporter": "python",
   "pygments_lexer": "ipython3",
   "version": "3.7.5"
  }
 },
 "nbformat": 4,
 "nbformat_minor": 4
}
