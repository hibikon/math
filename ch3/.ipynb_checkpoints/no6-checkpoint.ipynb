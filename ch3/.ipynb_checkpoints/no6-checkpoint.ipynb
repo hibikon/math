{
 "cells": [
  {
   "cell_type": "markdown",
   "metadata": {},
   "source": [
    "◯　便利な公式"
   ]
  },
  {
   "cell_type": "markdown",
   "metadata": {},
   "source": [
    "◯　点から直線までの距離\n"
   ]
  },
  {
   "cell_type": "code",
   "execution_count": 2,
   "metadata": {},
   "outputs": [
    {
     "data": {
      "text/plain": [
       "5.0"
      ]
     },
     "execution_count": 2,
     "metadata": {},
     "output_type": "execute_result"
    }
   ],
   "source": [
    "# | |は絶対値という意味。mathモジュールのfabs()関数で求められる\n",
    "# y = 3/4x - 1 の式をax + by + c = 0の形に直すと、3/4x - y - 1 = 0となる。\n",
    "# 分母を払うと、3x - 4y - 4 = 0になる\n",
    "# a = 3, b = -4, c = -4となり、この値と座標(1, 6)を公式に当てはめると\n",
    "\n",
    "import math\n",
    "x = 1\n",
    "y = 6\n",
    "a = 3\n",
    "b = -4\n",
    "c = -4\n",
    "# 点と距離を計算する\n",
    "math.fabs(a*x + b*y + c) / math.sqrt(a**2 + b**2)\n",
    "# 距離がわかる"
   ]
  },
  {
   "cell_type": "code",
   "execution_count": null,
   "metadata": {},
   "outputs": [],
   "source": []
  }
 ],
 "metadata": {
  "kernelspec": {
   "display_name": "Python 3",
   "language": "python",
   "name": "python3"
  },
  "language_info": {
   "codemirror_mode": {
    "name": "ipython",
    "version": 3
   },
   "file_extension": ".py",
   "mimetype": "text/x-python",
   "name": "python",
   "nbconvert_exporter": "python",
   "pygments_lexer": "ipython3",
   "version": "3.7.5"
  }
 },
 "nbformat": 4,
 "nbformat_minor": 4
}
