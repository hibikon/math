{
 "cells": [
  {
   "cell_type": "markdown",
   "metadata": {},
   "source": [
    "◯　コンピューターは論理演算で判断する"
   ]
  },
  {
   "cell_type": "markdown",
   "metadata": {},
   "source": [
    "◯　比較演算でプログラムの流れを変える"
   ]
  },
  {
   "cell_type": "code",
   "execution_count": 2,
   "metadata": {},
   "outputs": [
    {
     "name": "stdout",
     "output_type": "stream",
     "text": [
      "持っている\n"
     ]
    }
   ],
   "source": [
    "# キャンディを持っているかどうかを判断する\n",
    "def check_candy(item):\n",
    "    if (item & 0b1000) != 0:\n",
    "        print('持っている')\n",
    "        \n",
    "    else:\n",
    "        print('持っていない')\n",
    "\n",
    "# ２進数の「1001」、キャンディ、金貨を持っている\n",
    "taro_item = 9\n",
    "# check_candyを実行\n",
    "check_candy(taro_item)\n"
   ]
  },
  {
   "cell_type": "markdown",
   "metadata": {},
   "source": [
    "◯　論理積（AND演算）を使った成績判定プログラム"
   ]
  },
  {
   "cell_type": "code",
   "execution_count": 5,
   "metadata": {},
   "outputs": [
    {
     "data": {
      "text/plain": [
       "'B'"
      ]
     },
     "execution_count": 5,
     "metadata": {},
     "output_type": "execute_result"
    }
   ],
   "source": [
    "# テストの点数で成績を判定する\n",
    "def func_and(score):\n",
    "    # スコアが８０以上\n",
    "    if score >=80:\n",
    "        rank = 'A'\n",
    "    \n",
    "    elif (score >=60) and (score < 80):\n",
    "        rank = 'B'\n",
    "        \n",
    "    elif (score >=40) and (score < 60):\n",
    "        rank = 'C'\n",
    "    else:\n",
    "        rank = '追試'\n",
    "    return rank\n",
    "\n",
    "# func_and()関数を使って７８点の成績を判定\n",
    "rank = func_and(78)\n",
    "rank"
   ]
  },
  {
   "cell_type": "code",
   "execution_count": null,
   "metadata": {},
   "outputs": [],
   "source": []
  }
 ],
 "metadata": {
  "kernelspec": {
   "display_name": "Python 3",
   "language": "python",
   "name": "python3"
  },
  "language_info": {
   "codemirror_mode": {
    "name": "ipython",
    "version": 3
   },
   "file_extension": ".py",
   "mimetype": "text/x-python",
   "name": "python",
   "nbconvert_exporter": "python",
   "pygments_lexer": "ipython3",
   "version": "3.7.5"
  }
 },
 "nbformat": 4,
 "nbformat_minor": 4
}
