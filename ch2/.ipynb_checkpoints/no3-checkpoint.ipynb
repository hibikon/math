{
 "cells": [
  {
   "cell_type": "markdown",
   "metadata": {},
   "source": [
    "◯　コンピュータに特有のビット演算"
   ]
  },
  {
   "cell_type": "code",
   "execution_count": 1,
   "metadata": {},
   "outputs": [
    {
     "data": {
      "text/plain": [
       "1"
      ]
     },
     "execution_count": 1,
     "metadata": {},
     "output_type": "execute_result"
    }
   ],
   "source": [
    "# AND演算\n",
    "1 & 1"
   ]
  },
  {
   "cell_type": "code",
   "execution_count": 2,
   "metadata": {},
   "outputs": [
    {
     "data": {
      "text/plain": [
       "1"
      ]
     },
     "execution_count": 2,
     "metadata": {},
     "output_type": "execute_result"
    }
   ],
   "source": [
    "# OR演算\n",
    "1 | 1"
   ]
  },
  {
   "cell_type": "code",
   "execution_count": 3,
   "metadata": {},
   "outputs": [
    {
     "data": {
      "text/plain": [
       "0"
      ]
     },
     "execution_count": 3,
     "metadata": {},
     "output_type": "execute_result"
    }
   ],
   "source": [
    "# XOR演算\n",
    "1 ^ 1"
   ]
  },
  {
   "cell_type": "code",
   "execution_count": 6,
   "metadata": {},
   "outputs": [
    {
     "data": {
      "text/plain": [
       "-2"
      ]
     },
     "execution_count": 6,
     "metadata": {},
     "output_type": "execute_result"
    }
   ],
   "source": [
    "# NOT演算\n",
    "# (2進数で表すと「00000001」)\n",
    "~1\n",
    "# 結果を２の補数で表すと「11111110」)"
   ]
  },
  {
   "cell_type": "markdown",
   "metadata": {},
   "source": [
    " ◯　複数桁のビット演算"
   ]
  },
  {
   "cell_type": "code",
   "execution_count": 7,
   "metadata": {},
   "outputs": [
    {
     "data": {
      "text/plain": [
       "'0b1010'"
      ]
     },
     "execution_count": 7,
     "metadata": {},
     "output_type": "execute_result"
    }
   ],
   "source": [
    "# AND演算\n",
    "bin(0b10101010 & 0b00001111)"
   ]
  },
  {
   "cell_type": "code",
   "execution_count": 9,
   "metadata": {},
   "outputs": [
    {
     "data": {
      "text/plain": [
       "10"
      ]
     },
     "execution_count": 9,
     "metadata": {},
     "output_type": "execute_result"
    }
   ],
   "source": [
    "# ２進数の「10101010」と「00001111」をAND演算\n",
    "170 & 15\n",
    "# 結果は2進数の「1010」"
   ]
  },
  {
   "cell_type": "markdown",
   "metadata": {},
   "source": [
    "◯　２の補数を求める"
   ]
  },
  {
   "cell_type": "code",
   "execution_count": 10,
   "metadata": {},
   "outputs": [
    {
     "data": {
      "text/plain": [
       "-10"
      ]
     },
     "execution_count": 10,
     "metadata": {},
     "output_type": "execute_result"
    }
   ],
   "source": [
    "# 2の補数\n",
    "# ①　絶対値を２進表記に変換して、すべての行の０と１を反転する\n",
    "# ②　変換後の値に１を足す\n",
    "\n",
    "# 10進数の１０のすべてのビットを反転（NOT演算）して、１を足す\n",
    "~10 + 1"
   ]
  },
  {
   "cell_type": "code",
   "execution_count": 11,
   "metadata": {},
   "outputs": [
    {
     "data": {
      "text/plain": [
       "'-0b1010'"
      ]
     },
     "execution_count": 11,
     "metadata": {},
     "output_type": "execute_result"
    }
   ],
   "source": [
    "# bin()関数で−１０を２進表記すると２の補数とは違う値が表示される\n",
    "bin(-10)"
   ]
  },
  {
   "cell_type": "code",
   "execution_count": 12,
   "metadata": {},
   "outputs": [
    {
     "data": {
      "text/plain": [
       "'0b11110110'"
      ]
     },
     "execution_count": 12,
     "metadata": {},
     "output_type": "execute_result"
    }
   ],
   "source": [
    "# そこでAND演算を用いる\n",
    "\n",
    "# -10（１０進数）と11111111(2進数）をAND演算し、結果を2進数で表示\n",
    "bin(-10 & 0b11111111)"
   ]
  },
  {
   "cell_type": "code",
   "execution_count": 13,
   "metadata": {},
   "outputs": [
    {
     "data": {
      "text/plain": [
       "'0b11110110'"
      ]
     },
     "execution_count": 13,
     "metadata": {},
     "output_type": "execute_result"
    }
   ],
   "source": [
    "# 2進数の11111111は１６進数のFF\n",
    "\n",
    "# -10（１０進数)とFF（１６進数）をAND演算し、結果を2進数で表示\n",
    "bin(-10 & 0xFF)"
   ]
  },
  {
   "cell_type": "markdown",
   "metadata": {},
   "source": [
    "◯　マスクをかけて一部を取り出す"
   ]
  },
  {
   "cell_type": "code",
   "execution_count": 14,
   "metadata": {},
   "outputs": [
    {
     "name": "stdout",
     "output_type": "stream",
     "text": [
      "135 206 250\n"
     ]
    }
   ],
   "source": [
    "# 色情報をr,g,bに分解する\n",
    "def get_pixel_color(c):\n",
    "    r = (c & 0x00FF0000) >> 16 # 赤\n",
    "    g = (c & 0x0000FF00) >> 8  # 緑\n",
    "    b = (c & 0x000000FF) \n",
    "    return r, g, b\n",
    "\n",
    "# 変数cに色情報（１０進数）を代入\n",
    "c = 4287090426\n",
    "# get_pixel_color()関数を実行\n",
    "r, g, b = get_pixel_color(c)\n",
    "# r, g, b の順に出力\n",
    "print(r, g, b)"
   ]
  },
  {
   "cell_type": "markdown",
   "metadata": {},
   "source": [
    "◯　フラグの操作"
   ]
  },
  {
   "cell_type": "code",
   "execution_count": 15,
   "metadata": {},
   "outputs": [],
   "source": [
    "# 最初はアイテムを何も持っていない状態からスタート\n",
    "taro_item = 0"
   ]
  },
  {
   "cell_type": "code",
   "execution_count": 16,
   "metadata": {},
   "outputs": [],
   "source": [
    "# 2進数を使ってもよい\n",
    "taro_item = 0b0000"
   ]
  },
  {
   "cell_type": "markdown",
   "metadata": {},
   "source": [
    "◯　フラグを立てる"
   ]
  },
  {
   "cell_type": "code",
   "execution_count": 18,
   "metadata": {},
   "outputs": [
    {
     "data": {
      "text/plain": [
       "1"
      ]
     },
     "execution_count": 18,
     "metadata": {},
     "output_type": "execute_result"
    }
   ],
   "source": [
    "# 金貨をゲットした\n",
    "# この場合は、金貨のビットを１、それ以外のビットを０にした値とOR演算を行う\n",
    "\n",
    "# 金貨フラグを立てる\n",
    "taro_item = taro_item | 0b0001\n",
    "taro_item"
   ]
  },
  {
   "cell_type": "code",
   "execution_count": 19,
   "metadata": {},
   "outputs": [
    {
     "data": {
      "text/plain": [
       "9"
      ]
     },
     "execution_count": 19,
     "metadata": {},
     "output_type": "execute_result"
    }
   ],
   "source": [
    "# 今度はキャンディをゲットした\n",
    "# この場合はキャンディのビットを１、それ以外のビットを０にしたものとOR演算を行う\n",
    "\n",
    "# キャンディフラグを立てる\n",
    "taro_item = taro_item | 0b1000\n",
    "taro_item"
   ]
  },
  {
   "cell_type": "markdown",
   "metadata": {},
   "source": [
    "◯　フラグを使って判定する"
   ]
  },
  {
   "cell_type": "code",
   "execution_count": 20,
   "metadata": {},
   "outputs": [
    {
     "data": {
      "text/plain": [
       "8"
      ]
     },
     "execution_count": 20,
     "metadata": {},
     "output_type": "execute_result"
    }
   ],
   "source": [
    "# エネルギーがなくなってきた。回復にはキャンディが必要\n",
    "# キャンディのビットを１、それ以外のビットを０にしたものとAND演算する。\n",
    "# AND演算は両方のビットが１のときに１を返すので、AND演算の答えが１ならば、キャンディを持っていると判定できる\n",
    "# ただし、演算結果を入れる変数は新たに用意しなければ、今持っているアイテムの内容が変化してしまうため、注意\n",
    "\n",
    "# キャンディフラグが立っているかどうかを判定し、結果をchk_candyに代入\n",
    "chk_candy = taro_item & 0b1000\n",
    "\n",
    "chk_candy"
   ]
  },
  {
   "cell_type": "markdown",
   "metadata": {},
   "source": [
    "◯　フラグの解除"
   ]
  },
  {
   "cell_type": "code",
   "execution_count": 21,
   "metadata": {},
   "outputs": [
    {
     "data": {
      "text/plain": [
       "1"
      ]
     },
     "execution_count": 21,
     "metadata": {},
     "output_type": "execute_result"
    }
   ],
   "source": [
    "# キャンディを使った後は、キャンディのビットを０にしなくてはいけない\n",
    "# この場合は、\n",
    "# ①キャンディのビットを１、それ以外のビットを０にした値のビットパターンを反転する\n",
    "# ②反転後のビットと、キャラクターの現在の状態とでAND演算をする\n",
    "\n",
    "# キャンディフラグをおろす\n",
    "taro_item = taro_item & (~0b1000)\n",
    "taro_item"
   ]
  },
  {
   "cell_type": "code",
   "execution_count": null,
   "metadata": {},
   "outputs": [],
   "source": []
  }
 ],
 "metadata": {
  "kernelspec": {
   "display_name": "Python 3",
   "language": "python",
   "name": "python3"
  },
  "language_info": {
   "codemirror_mode": {
    "name": "ipython",
    "version": 3
   },
   "file_extension": ".py",
   "mimetype": "text/x-python",
   "name": "python",
   "nbconvert_exporter": "python",
   "pygments_lexer": "ipython3",
   "version": "3.7.5"
  }
 },
 "nbformat": 4,
 "nbformat_minor": 4
}
