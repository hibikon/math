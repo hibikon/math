{
 "cells": [
  {
   "cell_type": "markdown",
   "metadata": {},
   "source": [
    "◯　実数の表し方"
   ]
  },
  {
   "cell_type": "markdown",
   "metadata": {},
   "source": [
    "◯　実数に対応した10進数から2進数に変換するプログラム"
   ]
  },
  {
   "cell_type": "code",
   "execution_count": 2,
   "metadata": {},
   "outputs": [
    {
     "data": {
      "text/plain": [
       "([1, 0, 1, 0], [1, 0, 1])"
      ]
     },
     "execution_count": 2,
     "metadata": {},
     "output_type": "execute_result"
    }
   ],
   "source": [
    "def dec2bin_ex(target):\n",
    "    # targetを整数部と少数部に分ける\n",
    "    i = int(target) # 整数部\n",
    "    f = target - i  # 少数部\n",
    "    \n",
    "    # 整数部を2進数に変換\n",
    "    a = []          # 余りを入れるリスト\n",
    "    \n",
    "    # 割り算の商が０になるまで\n",
    "    while i != 0:\n",
    "        a.append(i % 2)  # 余り\n",
    "        i = i // 2       # 商\n",
    "        \n",
    "    # 要素を逆順にする\n",
    "    a.reverse()\n",
    "    \n",
    "    # 少数部を２進数に変換\n",
    "    b = []          # 整数部を入れるリスト\n",
    "    n = 0           # 繰り返した回数\n",
    "    \n",
    "    # 2を掛けた後の少数部が０になるまで\n",
    "    while (f != 0):\n",
    "        temp = f * 2         # 少数部×２\n",
    "        b.append(int(temp))  # 整数部\n",
    "        f = temp - int(temp) # 少数部\n",
    "        n += 1\n",
    "        if (n >= 10):\n",
    "            break\n",
    "    \n",
    "    # 2進数に変換した値\n",
    "    return a, b\n",
    "\n",
    "# [整数部],[少数部]の形式で表記\n",
    "dec2bin_ex(10.625)\n"
   ]
  },
  {
   "cell_type": "code",
   "execution_count": null,
   "metadata": {},
   "outputs": [],
   "source": []
  }
 ],
 "metadata": {
  "kernelspec": {
   "display_name": "Python 3",
   "language": "python",
   "name": "python3"
  },
  "language_info": {
   "codemirror_mode": {
    "name": "ipython",
    "version": 3
   },
   "file_extension": ".py",
   "mimetype": "text/x-python",
   "name": "python",
   "nbconvert_exporter": "python",
   "pygments_lexer": "ipython3",
   "version": "3.7.5"
  }
 },
 "nbformat": 4,
 "nbformat_minor": 4
}
