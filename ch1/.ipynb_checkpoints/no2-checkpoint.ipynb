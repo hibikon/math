{
 "cells": [
  {
   "cell_type": "markdown",
   "metadata": {},
   "source": [
    "◯　基数変換"
   ]
  },
  {
   "cell_type": "markdown",
   "metadata": {},
   "source": [
    "◯　10進数から2進数に変換するプログラム"
   ]
  },
  {
   "cell_type": "code",
   "execution_count": 5,
   "metadata": {},
   "outputs": [
    {
     "data": {
      "text/plain": [
       "[1, 1, 0, 1, 0]"
      ]
     },
     "execution_count": 5,
     "metadata": {},
     "output_type": "execute_result"
    }
   ],
   "source": [
    "def dec2bin(target):\n",
    "    # 余りを入れるリスト\n",
    "    amari = []\n",
    "    \n",
    "    # 余りが０になるまで\n",
    "    while target != 0:\n",
    "        amari.append(target % 2) # 余り\n",
    "        target = target // 2     # 商\n",
    "        \n",
    "    # リストの要素を逆順にして返す\n",
    "    amari.reverse()\n",
    "    return amari\n",
    "    \n",
    "dec2bin(26)"
   ]
  },
  {
   "cell_type": "markdown",
   "metadata": {},
   "source": [
    "◯　10進数から16進数へ変換"
   ]
  },
  {
   "cell_type": "code",
   "execution_count": 7,
   "metadata": {},
   "outputs": [
    {
     "data": {
      "text/plain": [
       "[1, 'A']"
      ]
     },
     "execution_count": 7,
     "metadata": {},
     "output_type": "execute_result"
    }
   ],
   "source": [
    "def dec3hex(target):\n",
    "    # 余りを入れるリスト\n",
    "    amari = []\n",
    "    \n",
    "    # 割り算の商が０になるまで\n",
    "    while target != 0:\n",
    "        amari.append(target % 16)\n",
    "        target = target // 16\n",
    "        \n",
    "    # 余りの10~15をA〜Fに置き換え\n",
    "    for i in range(len(amari)):\n",
    "        if amari[i] == 10:\n",
    "            amari[i] = 'A'\n",
    "        elif amari[i] == 11:\n",
    "            amari[i] = 'B'\n",
    "        elif amari[i] == 11:\n",
    "            amari[i] = 'C'\n",
    "        elif amari[i] == 12:\n",
    "            amari[i] = 'D'\n",
    "        elif amari[i] == 13:\n",
    "            amari[i] = 'E'\n",
    "        elif amari[i] == 14:\n",
    "            amari[i] = 'F'\n",
    "            \n",
    "    # リストの要素を逆順にして返す\n",
    "    amari.reverse()\n",
    "    return amari\n",
    "\n",
    "dec3hex(26)"
   ]
  },
  {
   "cell_type": "markdown",
   "metadata": {},
   "source": [
    "◯　他の位取り記数法から10進数に変換するプログラム"
   ]
  },
  {
   "cell_type": "code",
   "execution_count": 9,
   "metadata": {},
   "outputs": [
    {
     "data": {
      "text/plain": [
       "26"
      ]
     },
     "execution_count": 9,
     "metadata": {},
     "output_type": "execute_result"
    }
   ],
   "source": [
    "# int()関数でも可能\n",
    "# 1つ目の引数には変換前の値を文字列\n",
    "# 2つ目の引数には基数を指定\n",
    "int('0b11010', 2)"
   ]
  },
  {
   "cell_type": "code",
   "execution_count": 10,
   "metadata": {},
   "outputs": [
    {
     "data": {
      "text/plain": [
       "26"
      ]
     },
     "execution_count": 10,
     "metadata": {},
     "output_type": "execute_result"
    }
   ],
   "source": [
    "# m進数から10進数に変換する\n",
    "def any2dec(target, m):\n",
    "    n = len(target)-1\n",
    "    sum = 0\n",
    "    \n",
    "    # 文字列分の繰り返し\n",
    "    for i in range(len(target)):\n",
    "        if target[i] == 'A':\n",
    "            num = 10\n",
    "        elif target[i] == 'B':\n",
    "            num = 11\n",
    "        elif target[i] == 'C':\n",
    "            num = 12\n",
    "        elif target[i] == 'D':\n",
    "            num = 13\n",
    "        elif target[i] == 'E':\n",
    "            num = 14\n",
    "        elif target[i] == 'F':\n",
    "            num = 15\n",
    "        else:\n",
    "            num = int(target[i])\n",
    "            \n",
    "        sum += (m ** n) * num  # 「mのn乗　×　各桁の値を合計\n",
    "        n -= 1                 # 重みを1つ減らす\n",
    "        \n",
    "    return sum\n",
    "\n",
    "any2dec('11010', 2)"
   ]
  },
  {
   "cell_type": "code",
   "execution_count": null,
   "metadata": {},
   "outputs": [],
   "source": []
  }
 ],
 "metadata": {
  "kernelspec": {
   "display_name": "Python 3",
   "language": "python",
   "name": "python3"
  },
  "language_info": {
   "codemirror_mode": {
    "name": "ipython",
    "version": 3
   },
   "file_extension": ".py",
   "mimetype": "text/x-python",
   "name": "python",
   "nbconvert_exporter": "python",
   "pygments_lexer": "ipython3",
   "version": "3.7.5"
  }
 },
 "nbformat": 4,
 "nbformat_minor": 4
}
