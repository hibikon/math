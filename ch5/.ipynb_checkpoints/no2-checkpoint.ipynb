{
 "cells": [
  {
   "cell_type": "markdown",
   "metadata": {},
   "source": [
    "◯　行列"
   ]
  },
  {
   "cell_type": "markdown",
   "metadata": {},
   "source": [
    "◯　行列の足し算と引き算をPythonで実行"
   ]
  },
  {
   "cell_type": "code",
   "execution_count": 2,
   "metadata": {},
   "outputs": [
    {
     "data": {
      "text/plain": [
       "matrix([[ 80, 140],\n",
       "        [ 20,  25]])"
      ]
     },
     "execution_count": 2,
     "metadata": {},
     "output_type": "execute_result"
    }
   ],
   "source": [
    "import numpy as np\n",
    "\n",
    "# 行列A\n",
    "A = np.matrix([[50,40],[10,10]])\n",
    "# 行列B\n",
    "B = np.matrix([[30,100],[10,15]])\n",
    "\n",
    "# A + B\n",
    "A + B"
   ]
  },
  {
   "cell_type": "markdown",
   "metadata": {},
   "source": [
    "◯　行列の実数倍を求める"
   ]
  },
  {
   "cell_type": "code",
   "execution_count": 4,
   "metadata": {},
   "outputs": [
    {
     "data": {
      "text/plain": [
       "matrix([[ 64., 112.],\n",
       "        [ 16.,  20.]])"
      ]
     },
     "execution_count": 4,
     "metadata": {},
     "output_type": "execute_result"
    }
   ],
   "source": [
    "# 先ほどの結果の８割の数字を求める場合\n",
    "import numpy as np\n",
    "\n",
    "# 行列A\n",
    "A = np.matrix([[80, 140],[20,25]])\n",
    "# 0.8 × A\n",
    "0.8 * A"
   ]
  },
  {
   "cell_type": "markdown",
   "metadata": {},
   "source": [
    "◯　行列の掛け算を実行"
   ]
  },
  {
   "cell_type": "code",
   "execution_count": 6,
   "metadata": {},
   "outputs": [
    {
     "data": {
      "text/plain": [
       "matrix([[540, 940],\n",
       "        [430, 730]])"
      ]
     },
     "execution_count": 6,
     "metadata": {},
     "output_type": "execute_result"
    }
   ],
   "source": [
    "import numpy as np\n",
    "# 行列A（掛けられる側）\n",
    "A = np.matrix([[1,3],[2,1]])\n",
    "# 行列B（掛ける側）\n",
    "B = np.matrix([[150,250],[130,230]])\n",
    "# A * B\n",
    "A * B"
   ]
  },
  {
   "cell_type": "markdown",
   "metadata": {},
   "source": [
    "◯　l×m行列とm×n行列の掛け算"
   ]
  },
  {
   "cell_type": "code",
   "execution_count": 1,
   "metadata": {},
   "outputs": [
    {
     "data": {
      "text/plain": [
       "matrix([[361],\n",
       "        [362]])"
      ]
     },
     "execution_count": 1,
     "metadata": {},
     "output_type": "execute_result"
    }
   ],
   "source": [
    "# 掛ける順番に注意\n",
    "import numpy as np\n",
    "\n",
    "# 行列A（２×２行列）\n",
    "A = np.matrix([[1,3],[2,1]])\n",
    "# 行列B（２×１行列）\n",
    "B = np.matrix([[145],[72]])\n",
    "# A×Bを計算\n",
    "A * B"
   ]
  },
  {
   "cell_type": "markdown",
   "metadata": {},
   "source": [
    "◯　単位行列"
   ]
  },
  {
   "cell_type": "markdown",
   "metadata": {},
   "source": [
    "◯　行列×単位行列を計算する"
   ]
  },
  {
   "cell_type": "markdown",
   "metadata": {},
   "source": [
    "# 片方の行列が単位行列のときは掛け算でも交換法則が成立\n",
    "import numpy as np\n",
    "\n",
    "# 行列A\n",
    "A = np.matrix([[1,3],[2,1]])\n",
    "# 単位行列E\n",
    "E = np.matrix([[1,0],[0,1]])\n",
    "# A×E\n",
    "A * E"
   ]
  },
  {
   "cell_type": "code",
   "execution_count": 3,
   "metadata": {},
   "outputs": [
    {
     "data": {
      "text/plain": [
       "matrix([[1, 3],\n",
       "        [2, 1]])"
      ]
     },
     "execution_count": 3,
     "metadata": {},
     "output_type": "execute_result"
    }
   ],
   "source": [
    "# E×A\n",
    "E * A"
   ]
  },
  {
   "cell_type": "markdown",
   "metadata": {},
   "source": [
    "◯逆行列を求める"
   ]
  },
  {
   "cell_type": "code",
   "execution_count": 5,
   "metadata": {},
   "outputs": [
    {
     "data": {
      "text/plain": [
       "matrix([[-1.,  3.],\n",
       "        [ 2., -5.]])"
      ]
     },
     "execution_count": 5,
     "metadata": {},
     "output_type": "execute_result"
    }
   ],
   "source": [
    "# AB = BA = E が成立するとき、行列Bは行列Aの逆行列となる\n",
    "# Numpyのlinalg.inv()関数で逆行列が求められる\n",
    "import numpy as np\n",
    "\n",
    "# 行列A\n",
    "A = np.matrix([[5,3],[2,1]])\n",
    "# 逆行列を求める\n",
    "B = np.linalg.inv(A)\n",
    "\n",
    "B"
   ]
  },
  {
   "cell_type": "markdown",
   "metadata": {},
   "source": [
    "◯　単位行列になることを確認"
   ]
  },
  {
   "cell_type": "code",
   "execution_count": 8,
   "metadata": {},
   "outputs": [
    {
     "data": {
      "text/plain": [
       "matrix([[1, 0],\n",
       "        [0, 0]])"
      ]
     },
     "execution_count": 8,
     "metadata": {},
     "output_type": "execute_result"
    }
   ],
   "source": [
    "(A * B).astype(np.int64)"
   ]
  },
  {
   "cell_type": "markdown",
   "metadata": {},
   "source": [
    "◯　逆行列で連立方程式を解く"
   ]
  },
  {
   "cell_type": "code",
   "execution_count": 9,
   "metadata": {},
   "outputs": [
    {
     "data": {
      "text/plain": [
       "matrix([[ 3.],\n",
       "        [-2.]])"
      ]
     },
     "execution_count": 9,
     "metadata": {},
     "output_type": "execute_result"
    }
   ],
   "source": [
    "# 5x + 3y = 9\n",
    "# 2x + y = 4\n",
    "\n",
    "import numpy as np\n",
    "\n",
    "# 行列A\n",
    "A = np.matrix([[5,3],[2,1]])\n",
    "# 行列Aの逆行列\n",
    "inv_A = np.linalg.inv(A)\n",
    "# 行列B\n",
    "B = np.matrix([[9],[4]])\n",
    "# 逆行列×行列B\n",
    "inv_A * B"
   ]
  },
  {
   "cell_type": "code",
   "execution_count": null,
   "metadata": {},
   "outputs": [],
   "source": []
  }
 ],
 "metadata": {
  "kernelspec": {
   "display_name": "Python 3",
   "language": "python",
   "name": "python3"
  },
  "language_info": {
   "codemirror_mode": {
    "name": "ipython",
    "version": 3
   },
   "file_extension": ".py",
   "mimetype": "text/x-python",
   "name": "python",
   "nbconvert_exporter": "python",
   "pygments_lexer": "ipython3",
   "version": "3.7.5"
  }
 },
 "nbformat": 4,
 "nbformat_minor": 4
}
