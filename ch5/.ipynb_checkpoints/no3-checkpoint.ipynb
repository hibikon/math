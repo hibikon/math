{
 "cells": [
  {
   "cell_type": "markdown",
   "metadata": {},
   "source": [
    "◯　図形の一次変換"
   ]
  },
  {
   "cell_type": "markdown",
   "metadata": {},
   "source": [
    "◯　ベクトルと行列の掛け算"
   ]
  },
  {
   "cell_type": "code",
   "execution_count": 4,
   "metadata": {},
   "outputs": [
    {
     "data": {
      "text/plain": [
       "matrix([[6],\n",
       "        [7]])"
      ]
     },
     "execution_count": 4,
     "metadata": {},
     "output_type": "execute_result"
    }
   ],
   "source": [
    "import numpy as np\n",
    "\n",
    "# 点Pの座標\n",
    "P = np.matrix([[3],[2]])\n",
    "# 変換行列A\n",
    "A = np.matrix([[2,0],[1,2]])\n",
    "# A×P\n",
    "A * P\n",
    "# 変換後の座標が表示される"
   ]
  },
  {
   "cell_type": "markdown",
   "metadata": {},
   "source": [
    "◯　図形の対象移動"
   ]
  },
  {
   "cell_type": "markdown",
   "metadata": {},
   "source": [
    "◯　x軸に対して線対象に変換"
   ]
  },
  {
   "cell_type": "code",
   "execution_count": 3,
   "metadata": {},
   "outputs": [
    {
     "name": "stdout",
     "output_type": "stream",
     "text": [
      "[[ 1  3  3  1]\n",
      " [-1 -1 -2 -1]]\n"
     ]
    },
    {
     "data": {
      "image/png": "[encoded data removed]",
      "text/plain": [
       "<Figure size 432x288 with 1 Axes>"
      ]
     },
     "metadata": {
      "needs_background": "light"
     },
     "output_type": "display_data"
    }
   ],
   "source": [
    "%matplotlib inline\n",
    "import numpy as np\n",
    "import matplotlib.pyplot as plt\n",
    "\n",
    "# 三角形ABCの頂点\n",
    "p = np.matrix([[1,3,3,1],[1,1,2,1]])\n",
    "\n",
    "#変換行列\n",
    "A = np.matrix([[1,0],[0,-1]])\n",
    "\n",
    "# 変換\n",
    "p2 = A * p\n",
    "print(p2)\n",
    "\n",
    "# 描画\n",
    "p = np.array(p)\n",
    "p2 = np.array(p2)\n",
    "plt.plot(p[0, :], p[1, :])\n",
    "plt.plot(p2[0, :], p2[1, :])\n",
    "plt.axis('equal')\n",
    "plt.grid(color='0.8')\n",
    "plt.show()"
   ]
  },
  {
   "cell_type": "markdown",
   "metadata": {},
   "source": [
    "◯　y軸に線対象"
   ]
  },
  {
   "cell_type": "code",
   "execution_count": 6,
   "metadata": {},
   "outputs": [
    {
     "data": {
      "text/plain": [
       "matrix([[-1, -3, -3],\n",
       "        [ 1,  1,  2]])"
      ]
     },
     "execution_count": 6,
     "metadata": {},
     "output_type": "execute_result"
    }
   ],
   "source": [
    "# 三角形ABCの頂点\n",
    "p = np.matrix([[1,3,3],[1,1,2]])\n",
    "# 変換行列A(y軸に線対象)\n",
    "A = np.matrix([[-1, 0], [0, 1]])\n",
    "# A×p\n",
    "A * p"
   ]
  },
  {
   "cell_type": "markdown",
   "metadata": {},
   "source": [
    "◯　座標原点に線対象"
   ]
  },
  {
   "cell_type": "code",
   "execution_count": 7,
   "metadata": {},
   "outputs": [
    {
     "data": {
      "text/plain": [
       "matrix([[-1, -3, -3],\n",
       "        [-1, -1, -2]])"
      ]
     },
     "execution_count": 7,
     "metadata": {},
     "output_type": "execute_result"
    }
   ],
   "source": [
    "p = np.matrix([[1,3,3],[1,1,2]])\n",
    "# 変換行列A(y軸に線対象)\n",
    "A = np.matrix([[-1, 0], [0, -1]])\n",
    "# A×p\n",
    "A * p"
   ]
  },
  {
   "cell_type": "markdown",
   "metadata": {},
   "source": [
    "◯　直線y＝xに線対象"
   ]
  },
  {
   "cell_type": "code",
   "execution_count": 8,
   "metadata": {},
   "outputs": [
    {
     "data": {
      "text/plain": [
       "matrix([[-1, -1,  0],\n",
       "        [ 1,  3,  3]])"
      ]
     },
     "execution_count": 8,
     "metadata": {},
     "output_type": "execute_result"
    }
   ],
   "source": [
    "# 三角形ABCの頂点\n",
    "p = np.matrix([[1,3,3],[-1,-1,0]])\n",
    "# 変換行列A（直線y＝xに線対象）\n",
    "A = np.matrix([[0,1],[1,0]])\n",
    "# A×p\n",
    "A * p"
   ]
  },
  {
   "cell_type": "markdown",
   "metadata": {},
   "source": [
    "◯　図形を拡大して描画する"
   ]
  },
  {
   "cell_type": "code",
   "execution_count": 10,
   "metadata": {},
   "outputs": [
    {
     "name": "stdout",
     "output_type": "stream",
     "text": [
      "[[3 3 6 3]\n",
      " [9 3 3 9]]\n"
     ]
    },
    {
     "data": {
      "image/png": "[encoded data removed]",
      "text/plain": [
       "<Figure size 432x288 with 1 Axes>"
      ]
     },
     "metadata": {
      "needs_background": "light"
     },
     "output_type": "display_data"
    }
   ],
   "source": [
    "%matplotlib inline\n",
    "import numpy as np\n",
    "import matplotlib.pyplot as plt\n",
    "\n",
    "# 三角形ABCの頂点\n",
    "p = np.matrix([[1,1,2,1], [3,1,1,3]])\n",
    "\n",
    "# 変換行列（３倍に拡大）\n",
    "A = np.matrix([[3,0],[0,3]])\n",
    "\n",
    "# 変換\n",
    "p2 = A * p\n",
    "print(p2)\n",
    "\n",
    "# 描画\n",
    "p = np.array(p)\n",
    "p2 = np.array(p2)\n",
    "plt.plot(p[0, :], p[1, :])\n",
    "plt.plot(p2[0, :], p2[1, :])\n",
    "plt.axis('equal')\n",
    "plt.grid(color='0.8')\n",
    "plt.show()"
   ]
  },
  {
   "cell_type": "markdown",
   "metadata": {},
   "source": [
    "◯　図形の回転"
   ]
  },
  {
   "cell_type": "code",
   "execution_count": 13,
   "metadata": {},
   "outputs": [
    {
     "name": "stdout",
     "output_type": "stream",
     "text": [
      "[[4.44089210e-16 1.41421356e+00 2.82842712e+00 1.41421356e+00\n",
      "  4.44089210e-16]\n",
      " [4.24264069e+00 2.82842712e+00 4.24264069e+00 5.65685425e+00\n",
      "  4.24264069e+00]]\n"
     ]
    },
    {
     "data": {
      "image/png": "[encoded data removed]",
      "text/plain": [
       "<Figure size 432x288 with 1 Axes>"
      ]
     },
     "metadata": {
      "needs_background": "light"
     },
     "output_type": "display_data"
    }
   ],
   "source": [
    "# 図形を回転させて描画する\n",
    "%matplotlib inline\n",
    "import numpy as np\n",
    "import matplotlib.pyplot as plt\n",
    "\n",
    "# 四角形ABCDの頂点\n",
    "p = np.matrix([[3,3,5,5,3],[3,1,1,3,3]])\n",
    "\n",
    "# 変換行列（半時計まわりに４５度回転\n",
    "th = np.radians(45)      # 度数法　→　弧度法\n",
    "A = np.matrix([[np.cos(th),np.sin(-th)],[np.sin(th),np.cos(th)]])\n",
    "\n",
    "# 変換\n",
    "p2 = A * p\n",
    "print(p2)\n",
    "\n",
    "# 描画\n",
    "p = np.array(p)\n",
    "p2 = np.array(p2)\n",
    "plt.plot(p[0, :], p[1, :])\n",
    "plt.plot(p2[0, :], p2[1, :])\n",
    "plt.axis('equal')\n",
    "plt.grid(color='0.8')\n",
    "plt.show()"
   ]
  },
  {
   "cell_type": "markdown",
   "metadata": {},
   "source": [
    "◯　図形の平行移動"
   ]
  },
  {
   "cell_type": "markdown",
   "metadata": {},
   "source": [
    "◯　２×２行列から３×３行列へ"
   ]
  },
  {
   "cell_type": "code",
   "execution_count": 16,
   "metadata": {},
   "outputs": [
    {
     "name": "stdout",
     "output_type": "stream",
     "text": [
      "[[3 5 5 3]\n",
      " [4 4 5 4]\n",
      " [1 1 1 1]]\n"
     ]
    },
    {
     "data": {
      "image/png": "[encoded data removed]",
      "text/plain": [
       "<Figure size 432x288 with 1 Axes>"
      ]
     },
     "metadata": {
      "needs_background": "light"
     },
     "output_type": "display_data"
    }
   ],
   "source": [
    "# 同次座標という方式を使う\n",
    "# (wx, wy, w)\n",
    "# wのパラメータは常に１\n",
    "\n",
    "%matplotlib inline\n",
    "import numpy as np\n",
    "import matplotlib.pyplot as plt\n",
    "\n",
    "# 三角形ABCの頂点(同次座標)\n",
    "p = np.matrix([[1,3,3,1],[1,1,2,1],[1,1,1,1]])\n",
    "\n",
    "# 変換行列（平行移動）\n",
    "A = np.matrix([[1,0,2],[0,1,3],[0,0,1]])\n",
    "\n",
    "# 変換\n",
    "p2 = A * p\n",
    "print(p2)\n",
    "\n",
    "# 描画\n",
    "p = np.array(p)\n",
    "p2 = np.array(p2)\n",
    "plt.plot(p[0, :], p[1, :])\n",
    "plt.plot(p2[0, :],p2[1, :])\n",
    "plt.axis('equal')\n",
    "plt.grid(color='0.8')\n",
    "plt.show()"
   ]
  },
  {
   "cell_type": "markdown",
   "metadata": {},
   "source": [
    "◯　一次変換の組み合わせ"
   ]
  },
  {
   "cell_type": "code",
   "execution_count": 3,
   "metadata": {},
   "outputs": [
    {
     "name": "stdout",
     "output_type": "stream",
     "text": [
      "[[-4. -4. -5. -4.]\n",
      " [ 3.  5.  5.  3.]\n",
      " [ 1.  1.  1.  1.]]\n"
     ]
    },
    {
     "data": {
      "image/png": "[encoded data removed]",
      "text/plain": [
       "<Figure size 432x288 with 1 Axes>"
      ]
     },
     "metadata": {
      "needs_background": "light"
     },
     "output_type": "display_data"
    }
   ],
   "source": [
    "# 三角形ABCをx軸方向に２、y軸方向に３平行移動した後、半時計周りに９０度回転させるプログラム\n",
    "%matplotlib inline\n",
    "import numpy as np\n",
    "import matplotlib.pyplot as plt\n",
    "\n",
    "# 三角形ABCの頂点（同次座標）\n",
    "p = np.matrix([[1,3,3,1],[1,1,2,1],[1,1,1,1]])\n",
    "\n",
    "# 変換行列\n",
    "A = np.matrix([[1,0,2],[0,1,3],[0,0,1]])                                            # 平行移動\n",
    "th = np.radians(90)\n",
    "B = np.matrix([[np.cos(th), np.sin(-th), 0], [np.sin(th), np.cos(th), 0,], [0,0,1]]) # 回転行列\n",
    "\n",
    "# 変換\n",
    "p2 = B * A * p                                                                    # 平行移動→回転\n",
    "print(p2)\n",
    "\n",
    "# 描画\n",
    "p = np.array(p)\n",
    "p2 = np.array(p2)\n",
    "plt.plot(p[0, :],p[1, :])\n",
    "plt.plot(p2[0, :],p2[1, :])\n",
    "plt.axis('equal')\n",
    "plt.grid(color='0.8')\n",
    "plt.show()"
   ]
  },
  {
   "cell_type": "code",
   "execution_count": 5,
   "metadata": {},
   "outputs": [
    {
     "name": "stdout",
     "output_type": "stream",
     "text": [
      "[[1.00000000e+00 1.00000000e+00 2.22044605e-16 1.00000000e+00]\n",
      " [4.00000000e+00 6.00000000e+00 6.00000000e+00 4.00000000e+00]\n",
      " [1.00000000e+00 1.00000000e+00 1.00000000e+00 1.00000000e+00]]\n"
     ]
    },
    {
     "data": {
      "image/png": "[encoded data removed]",
      "text/plain": [
       "<Figure size 432x288 with 1 Axes>"
      ]
     },
     "metadata": {
      "needs_background": "light"
     },
     "output_type": "display_data"
    }
   ],
   "source": [
    "# ９０度回転させたあとに平行移動\n",
    "# p2 = A * B * p\n",
    "%matplotlib inline\n",
    "import numpy as np\n",
    "import matplotlib.pyplot as plt\n",
    "\n",
    "# 三角形ABCの頂点（同次座標）\n",
    "p = np.matrix([[1,3,3,1],[1,1,2,1],[1,1,1,1]])\n",
    "\n",
    "# 変換行列\n",
    "A = np.matrix([[1,0,2],[0,1,3],[0,0,1]])                                            # 平行移動\n",
    "th = np.radians(90)\n",
    "B = np.matrix([[np.cos(th), np.sin(-th), 0], [np.sin(th), np.cos(th), 0,], [0,0,1]]) # 回転行列\n",
    "\n",
    "# 変換\n",
    "p2 = A * B * p                                                                    # 平行移動→回転\n",
    "print(p2)\n",
    "\n",
    "# 描画\n",
    "p = np.array(p)\n",
    "p2 = np.array(p2)\n",
    "plt.plot(p[0, :],p[1, :])\n",
    "plt.plot(p2[0, :],p2[1, :])\n",
    "plt.axis('equal')\n",
    "plt.grid(color='0.8')\n",
    "plt.show()"
   ]
  },
  {
   "cell_type": "code",
   "execution_count": null,
   "metadata": {},
   "outputs": [],
   "source": []
  }
 ],
 "metadata": {
  "kernelspec": {
   "display_name": "Python 3",
   "language": "python",
   "name": "python3"
  },
  "language_info": {
   "codemirror_mode": {
    "name": "ipython",
    "version": 3
   },
   "file_extension": ".py",
   "mimetype": "text/x-python",
   "name": "python",
   "nbconvert_exporter": "python",
   "pygments_lexer": "ipython3",
   "version": "3.7.5"
  }
 },
 "nbformat": 4,
 "nbformat_minor": 4
}
