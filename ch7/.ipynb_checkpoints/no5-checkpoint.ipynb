{
 "cells": [
  {
   "cell_type": "markdown",
   "metadata": {},
   "source": [
    "◯　乱数"
   ]
  },
  {
   "cell_type": "code",
   "execution_count": 3,
   "metadata": {},
   "outputs": [
    {
     "data": {
      "text/plain": [
       "[39, 48, 2, 35, 61, 24, 98, 76, 50, 7]"
      ]
     },
     "execution_count": 3,
     "metadata": {},
     "output_type": "execute_result"
    }
   ],
   "source": [
    "import random\n",
    "\n",
    "# 乱数を入れるリスト\n",
    "rand = []\n",
    "\n",
    "#0から100までの乱数を生成\n",
    "for i in range(10):\n",
    "    rand.append(random.randint(0,100))\n",
    "    \n",
    "rand"
   ]
  },
  {
   "cell_type": "markdown",
   "metadata": {},
   "source": [
    "◯　乱数を使うときに注意すること"
   ]
  },
  {
   "cell_type": "code",
   "execution_count": 6,
   "metadata": {},
   "outputs": [
    {
     "data": {
      "text/plain": [
       "[2, 6, 4, 5, 0, 7, 8, 3, 1, 2, 6, 4, 5, 0, 7, 8, 3, 1, 2, 6]"
      ]
     },
     "execution_count": 6,
     "metadata": {},
     "output_type": "execute_result"
    }
   ],
   "source": [
    "# 乱数の初期化を１にして計算\n",
    "# Rn+1 = (a×Rn+b)modc\n",
    "# Rn : 1つ前の乱数\n",
    "# a,b,c : いずれも正の値でc>a,c>bを満たす整数\n",
    "# mod : 割り算の余りを求める演算子\n",
    "\n",
    "# 乱数の初期化\n",
    "a = 4\n",
    "b = 7\n",
    "c = 9\n",
    "rn = 1\n",
    "rand = []\n",
    "\n",
    "for i in range(20):\n",
    "    # 乱数を生成\n",
    "    rn = ((a * rn + b) % c)\n",
    "    rand.append(rn)\n",
    "\n",
    "rand\n",
    "# 乱数が１０番目の値で、それ以降は同じ値の組み合わせが繰り返される\n",
    "# 計算式が生成する乱数には必ず何かの周期性が存在"
   ]
  },
  {
   "cell_type": "code",
   "execution_count": null,
   "metadata": {},
   "outputs": [],
   "source": []
  }
 ],
 "metadata": {
  "kernelspec": {
   "display_name": "Python 3",
   "language": "python",
   "name": "python3"
  },
  "language_info": {
   "codemirror_mode": {
    "name": "ipython",
    "version": 3
   },
   "file_extension": ".py",
   "mimetype": "text/x-python",
   "name": "python",
   "nbconvert_exporter": "python",
   "pygments_lexer": "ipython3",
   "version": "3.7.5"
  }
 },
 "nbformat": 4,
 "nbformat_minor": 4
}
