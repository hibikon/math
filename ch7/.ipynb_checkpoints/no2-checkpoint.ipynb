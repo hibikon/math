{
 "cells": [
  {
   "cell_type": "markdown",
   "metadata": {},
   "source": [
    "◯　分散・標準偏差"
   ]
  },
  {
   "cell_type": "code",
   "execution_count": 1,
   "metadata": {},
   "outputs": [
    {
     "data": {
      "text/plain": [
       "0.0"
      ]
     },
     "execution_count": 1,
     "metadata": {},
     "output_type": "execute_result"
    }
   ],
   "source": [
    "# 平均からの「ズレ」を合計すれば、ばらつき具合がわかる？\n",
    "# しかし、合計すると答えは０になる。\n",
    "# 店長の作るおにぎりとバイトの作るおにぎりが１00gからどれくらいずれているのかを調べる\n",
    "import numpy as np\n",
    "\n",
    "# 店長のデータ\n",
    "owner = [94,105,107,106,88]\n",
    "# 平均\n",
    "mean = np.mean(owner)\n",
    "# 答え（ずれの合計）用の変数を初期化\n",
    "sum = 0\n",
    "# すべてのデータについて、「データ　ー　平均」を求める\n",
    "for d in owner:\n",
    "    sum = sum + (d - mean)\n",
    "    \n",
    "sum"
   ]
  },
  {
   "cell_type": "code",
   "execution_count": 2,
   "metadata": {},
   "outputs": [
    {
     "data": {
      "text/plain": [
       "290.0"
      ]
     },
     "execution_count": 2,
     "metadata": {},
     "output_type": "execute_result"
    }
   ],
   "source": [
    "# 「データ　ー　平均」を２乗してみる\n",
    "sum = 0\n",
    "for d in owner:\n",
    "    # 「データ　ー　平均」の２乗を合計\n",
    "    sum = sum + (d - mean)**2\n",
    "    \n",
    "sum"
   ]
  },
  {
   "cell_type": "code",
   "execution_count": 3,
   "metadata": {},
   "outputs": [
    {
     "data": {
      "text/plain": [
       "(58.0, 7.615773105863909)"
      ]
     },
     "execution_count": 3,
     "metadata": {},
     "output_type": "execute_result"
    }
   ],
   "source": [
    "# データ数が増えるほど上記の値は大きくなる\n",
    "# データの数の影響をなくすために、データ数で割る　→　分散\n",
    "# 分散は「データ　ー　平均」を２乗した値\n",
    "# 元の値に戻すために平方根をとった値　→　標準偏差\n",
    "\n",
    "import math\n",
    "# 分散\n",
    "variance = sum / 5\n",
    "# 標準偏差\n",
    "stdev = math.sqrt(variance)\n",
    "variance, stdev"
   ]
  },
  {
   "cell_type": "markdown",
   "metadata": {},
   "source": [
    "◯　分散・標準偏差をプログラムで求める"
   ]
  },
  {
   "cell_type": "code",
   "execution_count": 4,
   "metadata": {},
   "outputs": [
    {
     "data": {
      "image/png": "[encoded data removed]",
      "text/plain": [
       "<Figure size 432x288 with 1 Axes>"
      ]
     },
     "metadata": {
      "needs_background": "light"
     },
     "output_type": "display_data"
    }
   ],
   "source": [
    "# 度数分布表の描画のためにhist()関数を使う\n",
    "# 引数は先頭から順に、「y軸の値」、「x軸の値」、「棒グラフの透明度」\n",
    "%matplotlib inline\n",
    "import matplotlib.pyplot as plt\n",
    "import pandas as pd\n",
    "\n",
    "# データを読み込み\n",
    "dat = pd.read_csv('onigiri.csv', encoding='SHIFT-JIS')\n",
    "\n",
    "# 度数分布表\n",
    "plt.hist(dat['店長'], bins=range(0,200,10), alpha=0.5)\n",
    "plt.hist(dat['太郎'], bins=range(0,200,10), alpha=0.5)\n",
    "plt.show()\n"
   ]
  },
  {
   "cell_type": "markdown",
   "metadata": {},
   "source": [
    "◯　平均、分散、標準偏差を求める"
   ]
  },
  {
   "cell_type": "code",
   "execution_count": 5,
   "metadata": {},
   "outputs": [
    {
     "name": "stdout",
     "output_type": "stream",
     "text": [
      "店長-----\n",
      "平均: 98.29\n",
      "分散: 59.585899999999995\n",
      "標準偏差: 7.719190372053276\n",
      "太郎-----\n",
      "平均: 101.23\n",
      "分散: 522.0771\n",
      "標準偏差: 22.849006542954992\n"
     ]
    }
   ],
   "source": [
    "import numpy as np\n",
    "\n",
    "print('店長-----')\n",
    "print('平均:', np.mean(dat['店長']))\n",
    "print('分散:', np.var(dat['店長']))\n",
    "print('標準偏差:', np.std(dat['店長']))\n",
    "\n",
    "print('太郎-----')\n",
    "print('平均:', np.mean(dat['太郎']))\n",
    "print('分散:', np.var(dat['太郎']))\n",
    "print('標準偏差:', np.std(dat['太郎']))"
   ]
  },
  {
   "cell_type": "markdown",
   "metadata": {},
   "source": [
    "◯　偏差値"
   ]
  },
  {
   "cell_type": "markdown",
   "metadata": {},
   "source": [
    "◯ 偏差値をプログラムで求める　"
   ]
  },
  {
   "cell_type": "code",
   "execution_count": 6,
   "metadata": {},
   "outputs": [
    {
     "data": {
      "text/plain": [
       "57.0"
      ]
     },
     "execution_count": 6,
     "metadata": {},
     "output_type": "execute_result"
    }
   ],
   "source": [
    "# 4月：　得点：４３０点、平均：２７８点、標準偏差：６０\n",
    "# ９月：　得点：４３０点、平均：３８８点、標準偏差：６０\n",
    "\n",
    "def dev_value(score, mean, stdev):\n",
    "    # 偏差値を計算\n",
    "    return (score - mean) / stdev * 10 + 50\n",
    "\n",
    "dev_value(320, 278, 60)"
   ]
  },
  {
   "cell_type": "code",
   "execution_count": 7,
   "metadata": {},
   "outputs": [
    {
     "data": {
      "text/plain": [
       "57.0"
      ]
     },
     "execution_count": 7,
     "metadata": {},
     "output_type": "execute_result"
    }
   ],
   "source": [
    "dev_value(430, 388, 60)"
   ]
  },
  {
   "cell_type": "code",
   "execution_count": null,
   "metadata": {},
   "outputs": [],
   "source": []
  }
 ],
 "metadata": {
  "kernelspec": {
   "display_name": "Python 3",
   "language": "python",
   "name": "python3"
  },
  "language_info": {
   "codemirror_mode": {
    "name": "ipython",
    "version": 3
   },
   "file_extension": ".py",
   "mimetype": "text/x-python",
   "name": "python",
   "nbconvert_exporter": "python",
   "pygments_lexer": "ipython3",
   "version": "3.7.5"
  }
 },
 "nbformat": 4,
 "nbformat_minor": 4
}
