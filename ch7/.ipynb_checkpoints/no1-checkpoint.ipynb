{
 "cells": [
  {
   "cell_type": "markdown",
   "metadata": {},
   "source": [
    "◯　統計"
   ]
  },
  {
   "cell_type": "markdown",
   "metadata": {},
   "source": [
    "◯　csvファイルを読み込む"
   ]
  },
  {
   "cell_type": "code",
   "execution_count": 2,
   "metadata": {},
   "outputs": [
    {
     "data": {
      "text/html": [
       "<div>\n",
       "<style scoped>\n",
       "    .dataframe tbody tr th:only-of-type {\n",
       "        vertical-align: middle;\n",
       "    }\n",
       "\n",
       "    .dataframe tbody tr th {\n",
       "        vertical-align: top;\n",
       "    }\n",
       "\n",
       "    .dataframe thead th {\n",
       "        text-align: right;\n",
       "    }\n",
       "</style>\n",
       "<table border=\"1\" class=\"dataframe\">\n",
       "  <thead>\n",
       "    <tr style=\"text-align: right;\">\n",
       "      <th></th>\n",
       "      <th>数学</th>\n",
       "      <th>理科</th>\n",
       "    </tr>\n",
       "  </thead>\n",
       "  <tbody>\n",
       "    <tr>\n",
       "      <th>0</th>\n",
       "      <td>75</td>\n",
       "      <td>60</td>\n",
       "    </tr>\n",
       "    <tr>\n",
       "      <th>1</th>\n",
       "      <td>30</td>\n",
       "      <td>85</td>\n",
       "    </tr>\n",
       "    <tr>\n",
       "      <th>2</th>\n",
       "      <td>50</td>\n",
       "      <td>55</td>\n",
       "    </tr>\n",
       "    <tr>\n",
       "      <th>3</th>\n",
       "      <td>85</td>\n",
       "      <td>70</td>\n",
       "    </tr>\n",
       "    <tr>\n",
       "      <th>4</th>\n",
       "      <td>45</td>\n",
       "      <td>60</td>\n",
       "    </tr>\n",
       "  </tbody>\n",
       "</table>\n",
       "</div>"
      ],
      "text/plain": [
       "   数学  理科\n",
       "0  75  60\n",
       "1  30  85\n",
       "2  50  55\n",
       "3  85  70\n",
       "4  45  60"
      ]
     },
     "execution_count": 2,
     "metadata": {},
     "output_type": "execute_result"
    }
   ],
   "source": [
    "import pandas as pd\n",
    "\n",
    "# score.csvの読み込み\n",
    "dat = pd.read_csv('score.csv', encoding='SHIFT-JIS')\n",
    "dat.head()"
   ]
  },
  {
   "cell_type": "markdown",
   "metadata": {},
   "source": [
    "◯　平均値、中央値、最頻値を求めるプログラム"
   ]
  },
  {
   "cell_type": "code",
   "execution_count": 6,
   "metadata": {},
   "outputs": [
    {
     "name": "stdout",
     "output_type": "stream",
     "text": [
      "平均値 70.0\n",
      "中央値 85.0\n",
      "最頻値 95\n"
     ]
    }
   ],
   "source": [
    "import pandas as pd\n",
    "import numpy as np\n",
    "\n",
    "# score.csvの読み込み\n",
    "dat = pd.read_csv('score.csv', encoding='SHIFT-JIS')\n",
    "\n",
    "# 平均値、中央値\n",
    "print('平均値', np.mean(dat['数学']))\n",
    "print('中央値', np.median(dat['数学']))\n",
    "\n",
    "# 最頻値\n",
    "# 同じ値の個数を数える\n",
    "bincnt = np.bincount(dat['数学'])\n",
    "# bincntの中でも大きな値を取得\n",
    "mode = np.argmax(bincnt)\n",
    "print('最頻値', mode)"
   ]
  },
  {
   "cell_type": "markdown",
   "metadata": {},
   "source": [
    "◯　プログラムで度数分布表を作る"
   ]
  },
  {
   "cell_type": "code",
   "execution_count": 7,
   "metadata": {},
   "outputs": [
    {
     "name": "stdout",
     "output_type": "stream",
     "text": [
      "度数: [0, 1, 2, 3, 4, 5, 3, 1, 5, 16]\n"
     ]
    },
    {
     "data": {
      "image/png": "[encoded data removed]",
      "text/plain": [
       "<Figure size 432x288 with 1 Axes>"
      ]
     },
     "metadata": {
      "needs_background": "light"
     },
     "output_type": "display_data"
    }
   ],
   "source": [
    "%matplotlib inline\n",
    "import matplotlib.pyplot as plt\n",
    "import pandas as pd\n",
    "\n",
    "# score.csvの読み込み\n",
    "dat = pd.read_csv('score.csv', encoding='SHIFT-JIS')\n",
    "\n",
    "# 各階級に含まれる度数を数える\n",
    "# 度数（要素数１０、０で初期化）\n",
    "hist = [0]*10\n",
    "for dat in dat['数学']:\n",
    "    if dat < 10:\n",
    "        hist[0] += 1\n",
    "    elif dat < 20:\n",
    "        hist[1] += 1\n",
    "    elif dat < 30:\n",
    "        hist[2] += 1\n",
    "    elif dat < 40:\n",
    "        hist[3] += 1\n",
    "    elif dat < 50:\n",
    "        hist[4] += 1\n",
    "    elif dat < 60:\n",
    "        hist[5] += 1\n",
    "    elif dat < 70:\n",
    "        hist[6] += 1\n",
    "    elif dat < 80:\n",
    "        hist[7] += 1\n",
    "    elif dat < 90:\n",
    "        hist[8] += 1\n",
    "    elif dat <= 100:\n",
    "        hist[9] += 1\n",
    "print('度数:', hist)\n",
    "\n",
    "# 度数分布図\n",
    "# x軸の値\n",
    "x = list(range(1, 11))\n",
    "# x軸の目盛りラベル\n",
    "labels = ['0~','10~','20~','30~','40~','50~','60~','70~','80~','90~']\n",
    "# 棒グラフを描画\n",
    "plt.bar(x, hist, tick_label=labels, width=1)\n",
    "plt.show()"
   ]
  },
  {
   "cell_type": "code",
   "execution_count": null,
   "metadata": {},
   "outputs": [],
   "source": []
  }
 ],
 "metadata": {
  "kernelspec": {
   "display_name": "Python 3",
   "language": "python",
   "name": "python3"
  },
  "language_info": {
   "codemirror_mode": {
    "name": "ipython",
    "version": 3
   },
   "file_extension": ".py",
   "mimetype": "text/x-python",
   "name": "python",
   "nbconvert_exporter": "python",
   "pygments_lexer": "ipython3",
   "version": "3.7.5"
  }
 },
 "nbformat": 4,
 "nbformat_minor": 4
}
