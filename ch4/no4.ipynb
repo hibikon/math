{
 "cells": [
  {
   "cell_type": "markdown",
   "metadata": {},
   "source": [
    "◯　ベクトルの外積"
   ]
  },
  {
   "cell_type": "markdown",
   "metadata": {},
   "source": [
    "◯　ベクトルの外積を求める"
   ]
  },
  {
   "cell_type": "code",
   "execution_count": 1,
   "metadata": {},
   "outputs": [
    {
     "data": {
      "text/plain": [
       "array([ 0,  4, -2])"
      ]
     },
     "execution_count": 1,
     "metadata": {},
     "output_type": "execute_result"
    }
   ],
   "source": [
    "# 外積はNumpyのcross()関数で求められる\n",
    "import numpy as np\n",
    "\n",
    "# a→の成分\n",
    "a = np.array([0,1,2])\n",
    "# b→の成分\n",
    "b = np.array([2,0,0])\n",
    "# 外積を求める\n",
    "np.cross(a,b)"
   ]
  },
  {
   "cell_type": "markdown",
   "metadata": {},
   "source": [
    "◯2つのベクトルの終点を結んでできる三角形の面積を求める"
   ]
  },
  {
   "cell_type": "code",
   "execution_count": 1,
   "metadata": {},
   "outputs": [
    {
     "data": {
      "text/plain": [
       "5.0"
      ]
     },
     "execution_count": 1,
     "metadata": {},
     "output_type": "execute_result"
    }
   ],
   "source": [
    "import numpy as np\n",
    "\n",
    "# a→の成分\n",
    "a = np.array([2,4])\n",
    "# b→の成分\n",
    "b = np.array([3,1])\n",
    "# 外積を求める\n",
    "cross_ab = np.cross(a,b)\n",
    "# ベクトルの大きさを求める(平行四辺形の面積)\n",
    "s = np.linalg.norm(cross_ab)\n",
    "# 三角形の面積\n",
    "s / 2"
   ]
  },
  {
   "cell_type": "code",
   "execution_count": null,
   "metadata": {},
   "outputs": [],
   "source": []
  }
 ],
 "metadata": {
  "kernelspec": {
   "display_name": "Python 3",
   "language": "python",
   "name": "python3"
  },
  "language_info": {
   "codemirror_mode": {
    "name": "ipython",
    "version": 3
   },
   "file_extension": ".py",
   "mimetype": "text/x-python",
   "name": "python",
   "nbconvert_exporter": "python",
   "pygments_lexer": "ipython3",
   "version": "3.7.5"
  }
 },
 "nbformat": 4,
 "nbformat_minor": 4
}
