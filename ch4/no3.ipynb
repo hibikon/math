{
 "cells": [
  {
   "cell_type": "markdown",
   "metadata": {},
   "source": [
    "◯　ベクトルの貢献度を調べる"
   ]
  },
  {
   "cell_type": "code",
   "execution_count": 1,
   "metadata": {},
   "outputs": [
    {
     "data": {
      "text/plain": [
       "5.000000000000001"
      ]
     },
     "execution_count": 1,
     "metadata": {},
     "output_type": "execute_result"
    }
   ],
   "source": [
    "# |a→| : F = 1 : cosθ\n",
    "# ベクトルの大きさを１０、ベクトルがなす角度が６０の場合\n",
    "# 比例式の性質を使って計算すると\n",
    "\n",
    "import math\n",
    "10 * math.cos(math.radians(60))"
   ]
  },
  {
   "cell_type": "markdown",
   "metadata": {},
   "source": [
    "◯　２直線のなす角度を調べる"
   ]
  },
  {
   "cell_type": "code",
   "execution_count": 3,
   "metadata": {},
   "outputs": [
    {
     "name": "stdout",
     "output_type": "stream",
     "text": [
      "82.8749836510982\n"
     ]
    }
   ],
   "source": [
    "import math\n",
    "import numpy as np\n",
    "\n",
    "# 座標\n",
    "# Numpyの配列に代入\n",
    "a = np.array([2,7])\n",
    "b = np.array([6,1])\n",
    "c = np.array([2,3])\n",
    "d = np.array([6,5])\n",
    "\n",
    "# ベクトルaとベクトルbの成分\n",
    "va = b - a\n",
    "vb = d - c\n",
    "\n",
    "# ベクトルの大きさ\n",
    "# linalg.norm()関数を用いる（三平方の定理を使って計算するのと同じことができる）\n",
    "norm_a = np.linalg.norm(va)\n",
    "norm_b = np.linalg.norm(vb)\n",
    "\n",
    "# ベクトルの内積\n",
    "# dot()関数はベクトルの内積を求めることができる\n",
    "dot_ab = np.dot(va, vb)\n",
    "\n",
    "# 角度を求める\n",
    "# cosθ = a1b1 + a2b2 / |a→||b→|の計算でcosθを求める\n",
    "# 角度を変換するためにacos()関数を用いてcosの逆関数を使う。\n",
    "# その後に、degrees()関数を実行して度数法に変換する\n",
    "cos_th = dot_ab / (norm_a * norm_b)\n",
    "rad = math.acos(cos_th)\n",
    "deg = math.degrees(rad)\n",
    "print(deg)\n",
    "# およそ83度"
   ]
  },
  {
   "cell_type": "code",
   "execution_count": null,
   "metadata": {},
   "outputs": [],
   "source": []
  }
 ],
 "metadata": {
  "kernelspec": {
   "display_name": "Python 3",
   "language": "python",
   "name": "python3"
  },
  "language_info": {
   "codemirror_mode": {
    "name": "ipython",
    "version": 3
   },
   "file_extension": ".py",
   "mimetype": "text/x-python",
   "name": "python",
   "nbconvert_exporter": "python",
   "pygments_lexer": "ipython3",
   "version": "3.7.5"
  }
 },
 "nbformat": 4,
 "nbformat_minor": 4
}
