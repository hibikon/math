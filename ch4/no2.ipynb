{
 "cells": [
  {
   "cell_type": "markdown",
   "metadata": {},
   "source": [
    "◯　２点を結ぶ直線の方程式"
   ]
  },
  {
   "cell_type": "markdown",
   "metadata": {},
   "source": [
    "◯　２点を結ぶ直線の方程式"
   ]
  },
  {
   "cell_type": "code",
   "execution_count": 2,
   "metadata": {},
   "outputs": [
    {
     "data": {
      "text/plain": [
       "{a: 2/3, b: 8/3}"
      ]
     },
     "execution_count": 2,
     "metadata": {},
     "output_type": "execute_result"
    }
   ],
   "source": [
    "# 点Aの座標（-1, 2)と点Pの座標(2, 4)を y = ax + bに代入\n",
    "# -a + b = 2\n",
    "# 2a + b = 4という連立方程式になる\n",
    "# Sympyのsolve()関数を使ってこれを解く\n",
    "\n",
    "from sympy import Symbol, solve\n",
    "\n",
    "# 文字の定義\n",
    "a = Symbol('a')\n",
    "b = Symbol('b')\n",
    "\n",
    "# 式の定義\n",
    "ex1 = -1*a + b -2\n",
    "ex2 = 2*a + b -4\n",
    "\n",
    "# 連立方程式を解く\n",
    "solve((ex1, ex2))"
   ]
  },
  {
   "cell_type": "markdown",
   "metadata": {},
   "source": [
    "◯　２直線の交点"
   ]
  },
  {
   "cell_type": "code",
   "execution_count": 7,
   "metadata": {},
   "outputs": [
    {
     "data": {
      "text/plain": [
       "{k: 1/2, t: 1/2}"
      ]
     },
     "execution_count": 7,
     "metadata": {},
     "output_type": "execute_result"
    }
   ],
   "source": [
    "# A(2,7), B(6,1), C(2,3), D(6,5)のとき\n",
    "# O→×A→　＋　kA→×B→　＝　O→×C→　＋　tC→×D→ の式に値を代入して成分ごとに書き直すと\n",
    "# 4k - 4t = 0\n",
    "# -6k - 2t + 4 = 0という連立方程式になる\n",
    "# これを解くと\n",
    "from sympy import Symbol, solve\n",
    "\n",
    "# 文字の定義\n",
    "k = Symbol('k')\n",
    "t = Symbol('t')\n",
    "\n",
    "# 式の定義\n",
    "ex1 = 4*k - 4*t\n",
    "ex2 = -6*k -2*t + 4\n",
    "solve((ex1, ex2))\n",
    "\n",
    "# これによって求まったkの値を　O→×A→　＋　kA→×B→に代入すると交点Pの座標は(4,4)となる"
   ]
  },
  {
   "cell_type": "code",
   "execution_count": null,
   "metadata": {},
   "outputs": [],
   "source": []
  }
 ],
 "metadata": {
  "kernelspec": {
   "display_name": "Python 3",
   "language": "python",
   "name": "python3"
  },
  "language_info": {
   "codemirror_mode": {
    "name": "ipython",
    "version": 3
   },
   "file_extension": ".py",
   "mimetype": "text/x-python",
   "name": "python",
   "nbconvert_exporter": "python",
   "pygments_lexer": "ipython3",
   "version": "3.7.5"
  }
 },
 "nbformat": 4,
 "nbformat_minor": 4
}
